{
 "cells": [
  {
   "cell_type": "markdown",
   "metadata": {
    "collapsed": true
   },
   "source": [
    "## Overview\n",
    "- 1 Introduction \n",
    "\n",
    "- 2 Economic model \n",
    "\n",
    "- 3 Numerical solution \n",
    "\n",
    "- 4 Computational implementation \n",
    "\n",
    "- 5 Numerical results and simulation \n",
    "\n",
    "- 6 Highlights \n",
    "\n",
    "- 7 Main references"
   ]
  },
  {
   "cell_type": "markdown",
   "metadata": {},
   "source": [
    "Oligopoly markets consist of a small number of firms that dominate the market, selling differentiated or homogenous products. \n",
    "\n",
    " - There are different ways of modelling oligopolies, depending on the way firms interact in the market.\n",
    "\n",
    " - Firms choose **quantity** and then price adjusts so that demand equals supply \n",
    "  - these are the **Cournot and Stackelberg models**. \n",
    "\n",
    " - Firms choose the **prices** and then consumers choose from which firm to buy \n",
    "  - this is the **Bertrand model**.\n",
    "\n",
    " - To understand the Nash equilibrium the focus is on the duopoly case, in which the market has only two firms.\n",
    "\n",
    "The economic problem is based on Gandolfo (2010), Perloff (2013) and Varian (1992), while the mathematical and computational support is based on Demmel (1997) and Bai et al. (2000)."
   ]
  },
  {
   "cell_type": "markdown",
   "metadata": {},
   "source": [
    "## Cournot, Stackelberg and Bertrand models of duopoly markets\n",
    "\n",
    "\n",
    "Consider a static case with two firms, duopoly, each with a marginal cost $ \\bar{MC}$ and with total (inverse) demand \n",
    "\n",
    "$$P = \\frac{1}{a} \\left( \\bar Q_d − (Q_1 +Q_2)\\right) ,$$\n",
    "\n",
    "where P is the price, $Q_d$ is the autonomous demand, $a > 0$ is the sensitivity of the demand to price \n",
    "\n",
    "and $Q_i$ is the quantity offered by firm i, $i = 1, 2$. The total revenue, $TR_i$, is\n",
    "\n",
    "$$TR_i(Q_1,Q_2) = P \\times Q_i = \\frac{1}{a} \\left( \\bar Q_d − (Q_1 +Q_2)\\right) Q_i $$\n",
    "\n",
    "and thus the marginal revenue, $MR_i$, is \n",
    "\n",
    "$$MR_i(Q_1,Q_2) =\\frac{1}{a} \\left( \\bar Q_d − (Q_1 +Q_2 +Q_i)\\right)  .$$\n",
    "Then, firm i maximises profits by setting marginal revenue equal to marginal cost, $MR_i = \\bar{MC}$."
   ]
  },
  {
   "cell_type": "markdown",
   "metadata": {},
   "source": [
    "## Cournot\n",
    "\n",
    "The Cournot equilibrium (P∗,Q∗), Q∗ = Q∗ 1\n",
    "2 1 +Q∗ 2 is computed as follows:\n",
    "The best response of firm 1 to firm 2’s decisions should be obtained; from MR1 = MC and given Q2, it results Q∗\n",
    "1 (Q2) = 1 2 (Q1) = 1 2 (Qd − aMC) − 1 3\n",
    "The Cournot equilibrium occurs when Q∗ 2 = 1\n",
    "versa): Q∗ 1 = Q∗ 3 (Qd − aMC). 2 (Qd − aMC) − 1 2Q1. 1 is replaced in Q∗ 2Q2.\n",
    "The best response of firm 2 to firm 1’s decision is computed; similarly, to firm 2, it results Q∗\n"
   ]
  },
  {
   "cell_type": "markdown",
   "metadata": {
    "collapsed": true
   },
   "source": [
    "Assume that the output decisions in time t are based on the current price, $P_t$; thus, $P_t$ determines $Q_{s,t+1}$ or, equivalently, $P_{t-1}$ affects $Q_{s,t}$, which, interacting with a demand function, imposes dynamic price patterns. \n",
    "\n",
    "The standard equations that characterise the market are: \n",
    " - demand, $Q_{d,t} = \\bar Q_{d} - aP_t$; \n",
    " - supply, $Q_{s,t} = \\bar Q_s + bP_{t-1}$; \n",
    " - equilibrium, $Q_{d,t} = Q_{s,t}$.\n",
    "\n",
    "It is assumed that the price at t is set at a level which clears the market. \n",
    " - The **endogenous** variables are: quantity demanded, $Q_{d,t}$; quantity offered, $Q_{s,t}$; and price of the good, $P_t$. \n",
    " - The **exogenous** variables are: independent/autonomous quantity demanded, $\\bar Q_d$; and independent/autonomous quantity offered, $\\bar Q_s$. \n",
    " - Parameters are: $a, b > 0$, respectively, the sensitivity of the demand to price at time t and the sensitivity of the supply to price at time t − 1."
   ]
  },
  {
   "cell_type": "markdown",
   "metadata": {
    "collapsed": true
   },
   "source": [
    "## Demand"
   ]
  },
  {
   "cell_type": "markdown",
   "metadata": {
    "collapsed": true
   },
   "source": [
    "$Q_{d,t}$ is the total amount of a good that buyers would choose to purchase given the price of the good, $P_t$, as well as other variables, represented by the exogenous variable $\\bar Q_d$. \n",
    " - The Law of Demand states that, ceteris paribus, when the price of a good rises, the quantity of the good demanded falls. \n",
    " - A Demand Curve (or line) is a graphical representation of the relationship between price and quantity demanded, assuming that everything else remains constant.\n",
    " - Changes in demand occur when one of the determinants of demand other than price changes; i.e. ‘when the ceteris are not paribus’."
   ]
  },
  {
   "cell_type": "markdown",
   "metadata": {
    "collapsed": true
   },
   "source": [
    "## Supply\n",
    "\n",
    "$Q_{s,t}$ is the total amount of a good that sellers would choose to produce and sell given the price of the good at the previous time period, $P_{t-1}$, as well as other variables, represented by the exogenous variable $\\bar Q_s$.\n",
    " - The Law of Supply states that, ceteris paribus, when the price of a good at the previous time period rises, the quantity of the good supplied also rises. \n",
    "  - A Supply Curve (or line) is a graphical representation of the relationship between the price in the previous period and quantity supplied (ceteris paribus). \n",
    "  - Changes in supply occur when one of the determinants of supply other than the price of the previous period changes."
   ]
  },
  {
   "cell_type": "markdown",
   "metadata": {
    "collapsed": true
   },
   "source": [
    "## Putting the demand and the supply curves together\n",
    "\n",
    "\n",
    "By substituting $Q_{d,t}$ and $Q_{s,t}$ in $Q_{d,t} = Q_{s,t}$, the model can be reduced to a single **first-order difference equation**:\n",
    "\n",
    "\n",
    "$$aP_t + bP_{t−1} = Qd −Qs,$$\n",
    "\n",
    "which, since a = 0, can be rewritten as\n",
    "\n",
    "$$$$\n",
    "\n",
    "−b aPt−1 + Qd−Qs\n",
    "a\n",
    "Rewriting for t instead of t + 1, Pt =\n",
    " O. Afonso, P. B. Vasconcelos P0 − and then Pt−1 by −b Pt +\n",
    "Qd −Qs a\n",
    "a . (1)\n",
    "Now, equation (1) can be rewritten in terms of P0, by replacing Pt by aPt−2\n",
    "\n",
    "\n",
    "\n",
    "$$$$"
   ]
  },
  {
   "cell_type": "code",
   "execution_count": null,
   "metadata": {
    "collapsed": true
   },
   "outputs": [],
   "source": []
  },
  {
   "cell_type": "code",
   "execution_count": null,
   "metadata": {
    "collapsed": true
   },
   "outputs": [],
   "source": []
  },
  {
   "cell_type": "code",
   "execution_count": null,
   "metadata": {
    "collapsed": true
   },
   "outputs": [],
   "source": []
  }
 ],
 "metadata": {
  "kernelspec": {
   "display_name": "Python 3",
   "language": "python",
   "name": "python3"
  },
  "language_info": {
   "codemirror_mode": {
    "name": "ipython",
    "version": 3
   },
   "file_extension": ".py",
   "mimetype": "text/x-python",
   "name": "python",
   "nbconvert_exporter": "python",
   "pygments_lexer": "ipython3",
   "version": "3.5.2"
  }
 },
 "nbformat": 4,
 "nbformat_minor": 2
}
