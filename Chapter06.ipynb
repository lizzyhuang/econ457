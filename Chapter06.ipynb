{
 "cells": [
  {
   "cell_type": "markdown",
   "metadata": {},
   "source": [
    "# Chapter 6\n",
    "# Function Approximation"
   ]
  },
  {
   "cell_type": "code",
   "execution_count": null,
   "metadata": {
    "collapsed": true
   },
   "outputs": [],
   "source": [
    "import matplotlib.pyplot as plt\n",
    "import numpy as np\n",
    "\n",
    "from matplotlib.pyplot import *\n",
    "%matplotlib notebook\n",
    "import matplotlib as mpl\n",
    "#mpl.rcParams['savefig.dpi'] = 80\n",
    "mpl.rcParams['figure.dpi'] = 80\n",
    "# from IPython.display import set_matplotlib_formats\n",
    "# set_matplotlib_formats('png', 'pdf')\n",
    "%config InlineBackend.figure_format = 'retina'\n",
    "#https://www.dataquest.io/blog/jupyter-notebook-tips-tricks-shortcuts/\n",
    "\n",
    "import seaborn as sns\n",
    "sns.set()\n",
    "#sns.set_style(style= \"whitegrid\")\n",
    "#plt.style.available\n",
    "plt.style.use('fivethirtyeight')\n",
    "\n",
    "## \n",
    "np.random.seed(123)"
   ]
  },
  {
   "cell_type": "code",
   "execution_count": null,
   "metadata": {
    "collapsed": true
   },
   "outputs": [],
   "source": [
    "\n"
   ]
  },
  {
   "cell_type": "markdown",
   "metadata": {},
   "source": [
    "In many computational economic applications, one must approximate an analytically\n",
    "intractable real-valued function $f$ with a computationally tractable function $\\hat f$."
   ]
  },
  {
   "cell_type": "markdown",
   "metadata": {},
   "source": [
    "- In some applications, $f$ in principle can be evaluated at any point of its domain, but we wish to replace it with an approximation  $\\hat f$ that is easier to work with numerically\n",
    "\n",
    "- In other applications, $f$ is defined implicitly via a functional equation, but the equation lacks closed-form solution and we wish to compute an approximate solution $\\hat f$\n",
    "\n"
   ]
  },
  {
   "cell_type": "markdown",
   "metadata": {},
   "source": [
    "Two types of function approximation problems arise often in computational economic\n",
    "applications. \n",
    "\n",
    "- In the interpolation problem, one knows the value of a function\n",
    "$f$ at specified points in its domain and must choose an approximant $\\hat f$ from a family\n",
    "of \"nice\", tractable functions that matches the original function at the known evaluation\n",
    "points. The interpolation problem can be *generalized* to include the value of\n",
    "the function's first or higher derivatives at specified points."
   ]
  },
  {
   "cell_type": "markdown",
   "metadata": {
    "collapsed": true
   },
   "source": [
    "1. We will first look into interpolation, a general strategy for forming a tractable approximation to a function that can be evaluated at any point of its domain\n",
    "\n",
    "\n",
    "2. Then we will consider methods for solving functional equations that are based on interpolation principles"
   ]
  },
  {
   "cell_type": "code",
   "execution_count": null,
   "metadata": {
    "collapsed": true
   },
   "outputs": [],
   "source": []
  },
  {
   "cell_type": "markdown",
   "metadata": {},
   "source": [
    "In this chapter we discuss methods for approximating functions and focus on\n",
    "the two most generally practical techniques: **Chebychev polynomial and polynomial\n",
    "spline approximation**. \n",
    "\n",
    "\n",
    "In addition we discuss the use of **piecewise linear functions\n",
    "with finite difierence approximations for derivatives**. \n",
    "\n",
    "\n",
    "Univariate function interpolation\n",
    "methods are developed first and then are generalized to multivariate function\n",
    "interpolation methods. \n",
    "\n",
    "In the final section, we introduce the **collocation method**, a\n",
    "natural generalization of interpolation methods that may be used to solve a variety\n",
    "of functional equations. \n",
    "\n",
    "Collocation will be used extensively in Chapters 9 and 11 for\n",
    "solving dynamic economic models."
   ]
  },
  {
   "cell_type": "code",
   "execution_count": null,
   "metadata": {
    "collapsed": true
   },
   "outputs": [],
   "source": []
  },
  {
   "cell_type": "code",
   "execution_count": null,
   "metadata": {
    "collapsed": true
   },
   "outputs": [],
   "source": []
  },
  {
   "cell_type": "markdown",
   "metadata": {},
   "source": [
    "## 6.1 Interpolation Principles\n",
    "Interpolation involves the use of an approximating function, $\\hat f$, that is easy to evaluate\n",
    "in place of the function of interest, $f$. The first step in designing an interpolation\n",
    "scheme is choose a family of approximating functions.\n",
    "\n",
    "We will confine ourselves to\n",
    "families of functions that can be written as a *linear combination* of a set of n linearly\n",
    "independent *basis functions* $\\phi_1; \\phi_2; ... ; \\phi_n$:\n",
    "\n",
    "\n",
    "$$f(x) \\approx \\hat f(x)  \\equiv \\sum_{j=1}^n c_j{\\phi}_j(x),$$\n",
    "\n",
    "The basis coefficients $c_1, c_2,...,c_n$ can be fixed by requiring  $\\hat f$ to interpolate, that is, agree with $f$, at interpolation nodes\n",
    "$x_1,x_2,...x_n$ of our choosing.\n",
    "\n"
   ]
  },
  {
   "cell_type": "markdown",
   "metadata": {
    "collapsed": true
   },
   "source": [
    "For a given set of basis functions and nodes, computing the basis coefficients reduces to solving a **linear interpolation equation**\n",
    "\n",
    "$$ \\sum_{j=1}^n c_j{\\phi}_j(x_i) = f(x_i),\\, i = 1,2,..,n$$\n",
    "\n",
    "\n",
    "The interpolation equation can also be written in the matrix form\n",
    "\n",
    "$$ \\Phi c = y $$\n",
    "\n",
    "where\n",
    "\n",
    "$$ \\Phi_{ij} = \\phi_j(x_i) \\,\\, \\text{and} \\,\\, y_i = f(x_i)  $$\n",
    "\n",
    "for $i = 1,2,..,n$  and $j = 1,2,..,n$ , and $c$ is the $n \\times 1$  vector of basis coefficients to be determined"
   ]
  },
  {
   "cell_type": "markdown",
   "metadata": {},
   "source": [
    "- Interpolation schemes differ only in how the basis functions $\\phi_j$ and interpolation nodes $x_i$ are chosen\n",
    "\n",
    "\n",
    "- In theory, an interpolation scheme is well-defined if the basis functions and interpolation nodes are chosen so that the **interpolation matrix** $\\Phi$ is nonsingular\n",
    "\n",
    "- In computational practice, however, the interpolation matrix must meet the more stringent requirement that it is not ill-conditioned"
   ]
  },
  {
   "cell_type": "markdown",
   "metadata": {
    "collapsed": true
   },
   "source": [
    "- Ideally, an interpolation scheme should also satisfy various conditions\n",
    "  - It should be theoretically possible to achieve an arbitrarily accurate approximation by increasing the number of basis functions and\n",
    "interpolation nodes\n",
    "  - It should be possible to solve the interpolation equation quickly and accurately\n",
    "  - It should be relatively inexpensive to evaluate, differentiate, integrate or otherwise work with the approximation\n",
    "- In what follows, we develop interpolation schemes based on two classes of basis functions\n",
    "  - orthogonal polynomials\n",
    "  - piecewise polynomial splines"
   ]
  },
  {
   "cell_type": "markdown",
   "metadata": {
    "collapsed": true
   },
   "source": [
    "---"
   ]
  },
  {
   "cell_type": "markdown",
   "metadata": {},
   "source": [
    "## 6.2 Polynomial Interpolation\n",
    "\n",
    "\n",
    "Polynomial interpolation is motivated by the\n",
    "Weierstrass theorem which asserts that any\n",
    "continuous real-valued function can be\n",
    "approximated over a bounded interval to an\n",
    "arbitrary degree of accuracy by a polynomial\n",
    "\n"
   ]
  },
  {
   "cell_type": "markdown",
   "metadata": {},
   "source": [
    "According to the Weierstrass Theorem, any continuous real-valued function f defined\n",
    "on a bounded interval $[a; b]$ of the real line can be approximated to any degree of accuracy\n",
    "using a polynomial. More specifically, for any $\\epsilon > 0$, there exists a polynomial\n",
    "$p$ such that\n",
    "\n"
   ]
  },
  {
   "cell_type": "markdown",
   "metadata": {},
   "source": [
    "The Weierstrass theorem provides strong motivation for using polynomials to approximate\n",
    "continuous functions. The theorem, however, is not very practical. It gives no\n",
    "guidance on how to find a good polynomial approximant. It does not even state what\n",
    "order polynomial is required to achieve the required level of accuracy."
   ]
  },
  {
   "cell_type": "markdown",
   "metadata": {},
   "source": [
    "#### Naïve Polynomial Interpolation"
   ]
  },
  {
   "cell_type": "markdown",
   "metadata": {},
   "source": [
    "One apparently reasonable way to construct a $n^{th}$-degree polynomial approximant for a function $f$ is to form the unique $(n - 1)^{th}$-order polynomial\n",
    "\n",
    "$$\\hat f(x)  \\equiv \\sum_{j=1}^n c_j x^j,$$\n",
    "\n",
    "in terms of the monomial basis functions $1, x, x^2,… , x^n$\n",
    "\n",
    "then fix the $n + 1$ unknown basis coefficients $c_1, c_2,...,c_n$  by requiring $\\hat f(x)$ to agree with $f(x)$ at the $n+ 1$ equally-spaced interpolation nodes $x_i = a + ih$, where $h = (b - a)/n$"
   ]
  },
  {
   "cell_type": "markdown",
   "metadata": {},
   "source": [
    "#### Constructing the interpolation polynomial\n",
    "\n",
    "Suppose that the interpolation polynomial is in the form\n",
    "\n",
    "$${\\displaystyle p(x)=a_{n}x^{n}+a_{n-1}x^{n-1}+\\cdots +a_{2}x^{2}+a_{1}x+a_{0}.\\qquad (1)} $$\n",
    "\n",
    "The statement that p interpolates the data points means that\n",
    "$${\\displaystyle p(x_{i})=y_{i}\\qquad {\\mbox{for all }}i\\in \\left\\{0,1,\\dots ,n\\right\\}.}$$\n",
    "\n",
    "\n",
    "If we substitute equation (1) in here, we get a system of linear equations in the coefficients ak. The system in matrix-vector form reads\n",
    "\n",
    "$$\\begin{bmatrix}\n",
    "x_0^n  & x_0^{n-1} & x_0^{n-2} & \\ldots & x_0 & 1 \\\\\n",
    "x_1^n  & x_1^{n-1} & x_1^{n-2} & \\ldots & x_1 & 1 \\\\\n",
    "\\vdots & \\vdots    & \\vdots    &        & \\vdots & \\vdots \\\\\n",
    "x_n^n  & x_n^{n-1} & x_n^{n-2} & \\ldots & x_n & 1\n",
    "\\end{bmatrix}\n",
    "\\begin{bmatrix} a_n \\\\ a_{n-1} \\\\ \\vdots \\\\ a_0 \\end{bmatrix}  =\n",
    "\\begin{bmatrix} y_0 \\\\ y_1 \\\\ \\vdots \\\\ y_n \\end{bmatrix}.$$\n",
    "\n",
    "ref: https://en.wikipedia.org/wiki/Polynomial_interpolation"
   ]
  },
  {
   "cell_type": "markdown",
   "metadata": {},
   "source": [
    "where $n$ is the polynomial degree.\n",
    "\n",
    "Another important property of polynomials is given by the [Weierstrass Approximation Theorem](http://en.wikipedia.org/wiki/Stone%E2%80%93Weierstrass_theorem), which states given a cotinuous function $f$ defined on a interval $[a,b]$, for all $\\epsilon >0$, there exits a polynomial $P(x)$ such that\n",
    "\n",
    "$$|f(x) - P(x)|<\\epsilon\\ \\ \\ \\ \\  \\mbox{for all }\\ x\\ \\mbox{ in }\\ [a,b].$$\n",
    "\n",
    "This theorem guarantees the existence of such a polynomial, however it is necessary to propose a scheme to build it."
   ]
  },
  {
   "cell_type": "markdown",
   "metadata": {},
   "source": [
    "## Example\n",
    "\n",
    "approximation $u(x)$ in the space of all linear functions:\n",
    "\n",
    "$$\\begin{equation*} V = \\hbox{span}\\,\\{1, x\\}  \\end{equation*}$$\n",
    "\n",
    "$\\psi_0(x)=1$ , $\\psi_1(x)=x$, and $N=1$. We seek \n",
    "\n",
    "$$\\begin{equation*} u=c_0\\psi_0(x) + c_1\\psi_1(x) = c_0 + c_1x,\\end{equation*}$$"
   ]
  },
  {
   "cell_type": "markdown",
   "metadata": {},
   "source": [
    "\n",
    "\n",
    "In practice, however, polynomial interpolation at evenly spaced nodes often *does not* produce an accurate approximant. \n",
    "\n",
    "In fact, there are well-behaved functions for which polynomial approximants with evenly spaced nodes rapidly deteriorate, rather than improve, as the degree of approximation n rises.\n",
    "\n",
    "\n",
    "This polynomial interpolation scheme suffers from two serious, albeit distinct problems\n",
    "\n",
    "1. First, the interpolation matrix is a Vandermonde matrix, which becomes **increasingly ill-conditioned** as the degree of the interpolating polynomial rises\n",
    "\n",
    "2. Second, there are functions for which the approximation **error explodes** as the degree of the interpolating polynomial rises, e.g. the Runge’s function\n",
    "\n",
    "$$f(x) = {1 \\over (1 +25x^2)} , − 1 ≤ x ≤ 1$$\n",
    "\n",
    "\n",
    "3. Naïve polynomial interpolation reflects a poor choice of both the basis functions (monomials) and the interpolation nodes (equally-spaced points)\n"
   ]
  },
  {
   "cell_type": "code",
   "execution_count": null,
   "metadata": {
    "collapsed": true
   },
   "outputs": [],
   "source": [
    "from scipy.interpolate import interp1d\n",
    "\n",
    "x = np.linspace(0, 10, num=11, endpoint=True)\n",
    "y = np.cos(-x**2/9.0)\n",
    "f = interp1d(x, y)\n",
    "f2 = interp1d(x, y, kind='cubic')\n",
    "\n",
    "xnew = np.linspace(0, 10, num=41, endpoint=True)\n",
    "\n",
    "plt.figure()\n",
    "plt.plot(x, y, 'o', xnew, f(xnew), '-', xnew, f2(xnew), '--')\n",
    "plt.legend(['data', 'linear', 'cubic'], loc='best')\n",
    "plt.title(\"1-D interpolation in Scipy\")\n",
    "\n",
    "#https://docs.scipy.org/doc/scipy/reference/tutorial/interpolate.html"
   ]
  },
  {
   "cell_type": "markdown",
   "metadata": {},
   "source": [
    "### Runge Function"
   ]
  },
  {
   "cell_type": "code",
   "execution_count": null,
   "metadata": {
    "collapsed": true
   },
   "outputs": [],
   "source": [
    "x = np.linspace(-1,1, 400)\n",
    "def runge(x):\n",
    "    return 1/(1+25*x**2)\n",
    "\n",
    "\n",
    "fig, ax = plt.subplots(1, 1,sharex=True, sharey=True);\n",
    "\n",
    "ax.plot(x, runge(x), linewidth=2.0);\n",
    "ax.set_title(\"Runge Function\");\n"
   ]
  },
  {
   "cell_type": "code",
   "execution_count": null,
   "metadata": {
    "collapsed": true
   },
   "outputs": [],
   "source": [
    "#cd ..\\\n",
    "#cd \\home\\mcozzi\\Econ457"
   ]
  },
  {
   "cell_type": "code",
   "execution_count": null,
   "metadata": {
    "collapsed": true
   },
   "outputs": [],
   "source": [
    "from compecon import BasisChebyshev, BasisSpline, NLP\n",
    "from compecon.quad import qnwsimp\n",
    "import warnings\n",
    "warnings.simplefilter('ignore')"
   ]
  },
  {
   "cell_type": "code",
   "execution_count": null,
   "metadata": {
    "collapsed": true
   },
   "outputs": [],
   "source": []
  },
  {
   "cell_type": "markdown",
   "metadata": {},
   "source": [
    "### Table 6.1"
   ]
  },
  {
   "cell_type": "code",
   "execution_count": null,
   "metadata": {
    "collapsed": true
   },
   "outputs": [],
   "source": [
    "# Table 6.1 do not match textbook\n",
    "# runge = lambda x: 1 / (1 + 25 * x ** 2)\n",
    "a, b = -5, 5\n",
    "xx = np.linspace(a, b, 1001)\n",
    "fxx = runge(xx)\n",
    "def precision(fhat):\n",
    "    return np.log10(np.linalg.norm(fhat - fxx, np.inf))\n",
    "print('log10( norm(f(x) - fapprox(x0))) when using UNIFORM nodes')\n",
    "print('\\tn   monomial  chebyshev')\n",
    "for n in [10, 20, 30, 40, 50]:\n",
    "    # Chebyshev polynomials, uniform nodes\n",
    "    Bunif = BasisChebyshev(n, a, b, f=runge, nodetype='uniform')\n",
    "    # Uniform-node monomial-basis approximant\n",
    "    xnodes = Bunif.nodes[0]\n",
    "    c = np.polyfit(xnodes, runge(xnodes), n)\n",
    "    yfit = np.polyval(c, xx)\n",
    "    print('\\t{:d}    {:.2f}    {:.2f}'.format(n, precision(yfit), precision(Bunif(xx))))"
   ]
  },
  {
   "cell_type": "markdown",
   "metadata": {},
   "source": [
    "### Figure 6.1"
   ]
  },
  {
   "cell_type": "code",
   "execution_count": null,
   "metadata": {
    "collapsed": true
   },
   "outputs": [],
   "source": [
    "# # Figure 6.1\n",
    "# nodes = BasisChebyshev(9, 0, 1).nodes\n",
    "# plt.figure();\n",
    "# plt.plot(nodes, np.zeros_like(nodes), 'r*');\n"
   ]
  },
  {
   "cell_type": "markdown",
   "metadata": {},
   "source": [
    "#### Chebychev Polynomial Interpolation"
   ]
  },
  {
   "cell_type": "markdown",
   "metadata": {},
   "source": [
    "\n",
    "\n",
    "1. Numerical analysis theory and empirical experience both suggest that polynomial approximants over a bounded interval $[a; b]$ should be constructed by interpolating the underlying function at the so-called *Chebychev nodes*:\n",
    "\n",
    "\n",
    "2. The Chebychev nodes are not evenly spaced and do not include the endpoints of the approximation interval\n",
    "\n",
    "\n",
    "3. They are more closely spaced near the endpoints of the approximation interval and less so near the center"
   ]
  },
  {
   "cell_type": "markdown",
   "metadata": {},
   "source": [
    "For nodes over an arbitrary interval [a, b] an affine transformation can be used:\n",
    "\n",
    "The formula is different from textbook, but equiv\n",
    "\n",
    "$${\\displaystyle x_{k}={\\frac {1}{2}}(a+b)+{\\frac {1}{2}}(b-a)\\cos \\left({\\frac {2k-1}{2n}}\\pi \\right),\\quad k=1,\\ldots ,n.}$$"
   ]
  },
  {
   "cell_type": "code",
   "execution_count": null,
   "metadata": {
    "collapsed": true
   },
   "outputs": [],
   "source": [
    "np.arange(1,n+1)"
   ]
  },
  {
   "cell_type": "code",
   "execution_count": null,
   "metadata": {
    "collapsed": true
   },
   "outputs": [],
   "source": [
    "#Chebychev Nodes on [0,1]\n",
    "\n",
    "a=0\n",
    "b=1\n",
    "n = 9\n",
    "xc = (a+b)/2 + (b-a)/2*np.cos(np.pi/n*(n-np.arange(1,n+1)+.5));     # Chebyshev nodes\n"
   ]
  },
  {
   "cell_type": "code",
   "execution_count": null,
   "metadata": {
    "collapsed": true
   },
   "outputs": [],
   "source": [
    "plt.figure()\n",
    "plt.scatter(xc,xc**0, s = 125)\n",
    "plt.title(\"Chebychev Nodes on [0,1]\")\n",
    "plt.xlim(-0.1, 1.1)"
   ]
  },
  {
   "cell_type": "markdown",
   "metadata": {},
   "source": [
    "To illustrate the difference between Chebychev and evenly spaced node polynomial\n",
    "interpolation, consider approximating the function $f(x) = exp(-x)$ on the interval\n",
    "$[-1; 1]$. The approximation error associated with ten node polynomial interpolants\n",
    "are illustrated in Figure 6.2. The Chebychev node polynomial interpolant exhibits\n",
    "errors that oscillate fairly evenly throughout the interval of approximation, a common\n",
    "feature of Chebychev node interpolants. The evenly spaced node polynomial\n",
    "interpolant, on the other hand, exhibits significant instability near the endpoints\n",
    "of the interval. The Chebychev node polynomial interpolant avoids such endpoint\n",
    "instabilities because the nodes are more **heavily concentrated near the endpoints**."
   ]
  },
  {
   "cell_type": "markdown",
   "metadata": {},
   "source": [
    "### Figure 6.2"
   ]
  },
  {
   "cell_type": "code",
   "execution_count": null,
   "metadata": {
    "collapsed": true
   },
   "outputs": [],
   "source": [
    "# Figure 6.2\n",
    "# \n",
    "f = lambda x: np.exp(-x)\n",
    "a = -5\n",
    "b = 5\n",
    "xx = np.linspace(a, b, 1001)\n",
    "yy = f(xx)\n",
    "B = BasisChebyshev(10, -5, 5, f=f)\n",
    "res_cheb = B(xx) - yy\n",
    "xnodes = np.linspace(-5, 5, 10)\n",
    "c = np.polyfit(xnodes, f(xnodes), 10)\n",
    "res_unif = np.polyval(c, xx) - yy\n",
    "plt.figure();\n",
    "plt.plot(xx, res_cheb, xx, res_unif);\n",
    "plt.plot(xx, np.zeros_like(xx), 'k--', linewidth=2);\n",
    "plt.xlabel(\"x\");\n",
    "\n",
    "plt.xlim(-5,5);\n",
    "plt.legend(['Chebyshev nodes', 'Uniform nodes']);\n",
    "plt.title(\"Approximation Error for exp(−x)\");\n",
    "\n",
    "# it is different from textbook in terms of uniform error"
   ]
  },
  {
   "cell_type": "markdown",
   "metadata": {},
   "source": [
    "The most intuitive basis for expressing polynomials, regardless of the interpolation\n",
    "nodes chosen, is the **monomial basis** consisting of the simple power functions\n",
    "$1; x; x^2; x^3; : : :$, illustrated in Figure 6.3 for the interval $x \\in [0; 1]$. However, the\n",
    "monomial basis produces an interpolation matrix $\\Phi$ that is so-called **Vandermonde maxtrix**\n",
    "\n",
    "In linear algebra, a Vandermonde matrix, named after Alexandre-Théophile Vandermonde, is a matrix with the terms of a geometric progression in each row, i.e., an m × n matrix\n",
    "\n",
    "\n",
    "$${\\displaystyle \\Phi={\\begin{bmatrix}1&x _{1}&x _{1}^{2}&\\dots &x _{1}^{n-1}\\\\1&x _{2}&x _{2}^{2}&\\dots &x _{2}^{n-1}\\\\1&x _{3}&x _{3}^{2}&\\dots &x _{3}^{n-1}\\\\\\vdots &\\vdots &\\vdots &\\ddots &\\vdots \\\\1&x _{m}&x _{m}^{2}&\\dots &x _{m}^{n-1}\\end{bmatrix}},} $$\n",
    "\n",
    "\n",
    "ref: https://en.wikipedia.org/wiki/Vandermonde_matrix"
   ]
  },
  {
   "cell_type": "markdown",
   "metadata": {},
   "source": [
    "### Figure 6.3"
   ]
  },
  {
   "cell_type": "code",
   "execution_count": null,
   "metadata": {
    "collapsed": true
   },
   "outputs": [],
   "source": [
    "\n",
    "# Simple data to display in various forms\n",
    "x = np.linspace(0, 1, 400);\n",
    "\n",
    "\n",
    "# Four axes, returned as a 3-d array\n",
    "fig, axarr = plt.subplots(3, 3,sharex=True, sharey=True);\n",
    "\n",
    "axarr[0, 0].plot(x, x**0, linewidth=2.0);\n",
    "#plt.ylim(0,1.1)\n",
    "axarr[0, 0].set_ylim(-0.1,1.1)\n",
    "axarr[0, 0].set_title(r'$1$');\n",
    "axarr[0, 1].plot(x, x, linewidth=2.0);\n",
    "axarr[0, 1].set_title(r'$x$');\n",
    "axarr[0, 2].plot(x, x**2, linewidth=2.0);\n",
    "axarr[0, 2].set_title(r'$x^2$');\n",
    "\n",
    "axarr[1, 0].plot(x, x ** 3, linewidth=2.0);\n",
    "axarr[1, 0].set_title(r'$x^3$');\n",
    "axarr[1, 1].plot(x, x ** 4, linewidth=2.0);\n",
    "axarr[1, 1].set_title(r'$x^4$');\n",
    "axarr[1, 2].plot(x, x ** 5, linewidth=2.0);\n",
    "axarr[1, 2].set_title(r'$x^5$');\n",
    "\n",
    "axarr[2, 0].plot(x, x ** 6, linewidth=2.0);\n",
    "axarr[2, 0].set_title(r'$x^6$');\n",
    "axarr[2, 1].plot(x, x ** 7, linewidth=2.0);\n",
    "axarr[2, 1].set_title(r'$x^7$');\n",
    "axarr[2, 2].plot(x, x ** 8, linewidth=2.0);\n",
    "axarr[2, 2].set_title(r'$x^8$');\n",
    "\n",
    "\n",
    "\n",
    "# Fine-tune figure; make subplots farther from each other.\n",
    "fig.subplots_adjust(hspace=0.3);\n",
    "\n",
    "fig.suptitle(\"Monomial Basis Functions on [0,1]\", fontsize=16)\n",
    "\n",
    "# Tight layout often produces nice results\n",
    "# but requires the title to be spaced accordingly\n",
    "fig.tight_layout()\n",
    "fig.subplots_adjust(top=0.88)\n",
    "\n",
    "# Fine-tune figure; hide x ticks for top plots and y ticks for right plots\n",
    "plt.setp([a.get_xticklabels() for a in axarr[0, :]], visible=False);\n",
    "plt.setp([a.get_yticklabels() for a in axarr[:, 2]], visible=False);"
   ]
  },
  {
   "cell_type": "code",
   "execution_count": null,
   "metadata": {
    "collapsed": true
   },
   "outputs": [],
   "source": []
  },
  {
   "cell_type": "code",
   "execution_count": null,
   "metadata": {
    "collapsed": true
   },
   "outputs": [],
   "source": []
  },
  {
   "cell_type": "markdown",
   "metadata": {
    "collapsed": true
   },
   "source": [
    "- Interpolating at the Chebychev nodes offers many advantages\n",
    "- However, merely interpolating at the Chebychev nodes does not eliminate ill-conditioning\n",
    "- Ill-conditioning stems from the choice of basis functions, not the choice of interpolation nodes\n",
    "- Fortunately, there is an alternative to the standard monomial basis that is ideal for interpolating at Chebychev nodes\n",
    "\n",
    "The optimal basis for interpolating at Chebychev nodes is called the **Chebychev polynomial basis**\n",
    "\n",
    "\n",
    "The Chebyshev polynomials of the first kind are defined by the recurrence relation\n",
    "\n",
    "$${\\displaystyle {\\begin{aligned}T_{0}(x)&=1\\\\T_{1}(x)&=x\\\\T_{n+1}(x)&=2xT_{n}(x)-T_{n-1}(x).\\end{aligned}}} $$\n",
    "\n",
    "\n",
    "\n",
    "\n",
    "ref: https://en.wikipedia.org/wiki/Chebyshev_polynomials\n",
    "\n",
    "The first few Chebyshev polynomials of the first kind are\n",
    "\n",
    "$${\\displaystyle {\\begin{aligned}T_{0}(x)&=1\\\\T_{1}(x)&=x\\\\T_{2}(x)&=2x^{2}-1\\\\T_{3}(x)&=4x^{3}-3x\\\\T_{4}(x)&=8x^{4}-8x^{2}+1\\\\T_{5}(x)&=16x^{5}-20x^{3}+5x\\\\T_{6}(x)&=32x^{6}-48x^{4}+18x^{2}-1\\\\T_{7}(x)&=64x^{7}-112x^{5}+56x^{3}-7x\\\\T_{8}(x)&=128x^{8}-256x^{6}+160x^{4}-32x^{2}+1\\\\T_{9}(x)&=256x^{9}-576x^{7}+432x^{5}-120x^{3}+9x\\\\T_{10}(x)&=512x^{10}-1280x^{8}+1120x^{6}-400x^{4}+50x^{2}-1\\\\T_{11}(x)&=1024x^{11}-2816x^{9}+2816x^{7}-1232x^{5}+220x^{3}-11x\\end{aligned}}}$$"
   ]
  },
  {
   "cell_type": "markdown",
   "metadata": {},
   "source": [
    "Polynomial in Chebyshev form[edit]\n",
    "An arbitrary polynomial of degree $N$ can be written in terms of the Chebyshev polynomials of the first kind. Such a polynomial $p(x)$ is of the form\n",
    "\n",
    "$${\\displaystyle p(x)=\\sum _{n=0}^{N}c_{n}T_{n}(x).} $$\n",
    "\n",
    "\n",
    "\n",
    "- Combining the Chebychev basis polynomials and Chebychev interpolation nodes yields an extremely wellconditioned interpolation equation\n",
    "  - The **Chebychev interpolation matrix** is orthogonal, that is, $\\Phi' \\Phi$ is diagonal\n",
    "  - Its condition number is $\\sqrt{2}$, regardless of the degree of interpolation, which is near the absolute minimum of 1\n",
    "- As a consequence, basis coefficients can be computed accurately, regardless of the degree of the approximating polynomial\n",
    "\n",
    "When the function being approximated is very smooth, Chebychev node polynomial interpolants typically exhibit errors that oscillate fairly evenly throughout the interval of approximation\n",
    "\n",
    "This feature is commonly referred to as the **Chebychev equi-oscillation property**"
   ]
  },
  {
   "cell_type": "code",
   "execution_count": null,
   "metadata": {
    "collapsed": true
   },
   "outputs": [],
   "source": []
  },
  {
   "cell_type": "markdown",
   "metadata": {},
   "source": []
  },
  {
   "cell_type": "markdown",
   "metadata": {},
   "source": [
    "### Figure 6.4"
   ]
  },
  {
   "cell_type": "code",
   "execution_count": null,
   "metadata": {
    "collapsed": true
   },
   "outputs": [],
   "source": [
    "# Chebychev Polynomial Basis Functions on [0,1]\n",
    "\n",
    "\n",
    "# Simple data to display in various forms\n",
    "x = np.linspace(-1, 1, 400);\n",
    "\n",
    "\n",
    "# Four axes, returned as a 3-d array\n",
    "fig, axarr = plt.subplots(3, 3,sharex=True, sharey=True);\n",
    "\n",
    "axarr[0, 0].plot(x, x**0, linewidth=2.0);\n",
    "#plt.ylim(0,1.1)\n",
    "axarr[0, 0].set_ylim(-1.9,1.9)\n",
    "axarr[0, 0].set_title(r'$T_{0}(x)$');\n",
    "axarr[0, 1].plot(x, 2*x, linewidth=2.0);\n",
    "axarr[0, 1].set_title(r'$T_{1}(x)$');\n",
    "axarr[0, 2].plot(x, 4*x**2-1, linewidth=2.0);\n",
    "axarr[0, 2].set_title(r'$T_{2}(x)$');\n",
    "\n",
    "axarr[1, 0].plot(x, 8*x ** 3-4*x, linewidth=2.0);\n",
    "axarr[1, 0].set_title(r'$T_{3}(x)$');\n",
    "axarr[1, 1].plot(x, 16*x ** 4-12*x**2+1, linewidth=2.0);\n",
    "axarr[1, 1].set_title(r'$T_{4}(x)$');\n",
    "axarr[1, 2].plot(x, 32*x ** 5-32*x**3+6*x, linewidth=2.0);\n",
    "axarr[1, 2].set_title(r'$T_{5}(x)$');\n",
    "\n",
    "axarr[2, 0].plot(x, 64*x ** 6-80*x**4+24*x**2-1, linewidth=2.0);\n",
    "axarr[2, 0].set_title(r'$T_{6}(x)$');\n",
    "axarr[2, 1].plot(x, 128*x ** 7-192*x**5+80*x**3-8*x, linewidth=2.0);\n",
    "axarr[2, 1].set_title(r'$T_{7}(x)$');\n",
    "axarr[2, 2].plot(x, 256*x ** 8-448*x**6 +240*x**4-40*x**2+1, linewidth=2.0);\n",
    "axarr[2, 2].set_title(r'$T_{8}(x)$');\n",
    "\n",
    "\n",
    "\n",
    "# Fine-tune figure; make subplots farther from each other.\n",
    "fig.subplots_adjust(hspace=0.3);\n",
    "\n",
    "fig.suptitle(\"Chebychev Polynomial Basis Functions on [0,1]\", fontsize=18)\n",
    "\n",
    "# Tight layout often produces nice results\n",
    "# but requires the title to be spaced accordingly\n",
    "fig.tight_layout()\n",
    "fig.subplots_adjust(top=0.88)\n",
    "\n",
    "# Fine-tune figure; hide x ticks for top plots and y ticks for right plots\n",
    "plt.setp([a.get_xticklabels() for a in axarr[0, :]], visible=False);\n",
    "plt.setp([a.get_yticklabels() for a in axarr[:, 2]], visible=False);"
   ]
  },
  {
   "cell_type": "code",
   "execution_count": null,
   "metadata": {
    "collapsed": true
   },
   "outputs": [],
   "source": []
  },
  {
   "cell_type": "code",
   "execution_count": null,
   "metadata": {
    "collapsed": true
   },
   "outputs": [],
   "source": []
  },
  {
   "cell_type": "code",
   "execution_count": null,
   "metadata": {
    "collapsed": true
   },
   "outputs": [],
   "source": [
    "# Table 6.2\n",
    "# Errors for seletected interpolation methods\n",
    "#   1: y = exp(-x)\n",
    "#   2: y = 1./(1+25*x.^2).\n",
    "#   3: y = sqrt(abs(x))\n",
    "print('\\n\\n')\n",
    "## Functions to be approximated\n",
    "funcs = [lambda x: np.exp(-x),\n",
    "         lambda x: 1 / ( 1 + 25 * x ** 2),\n",
    "         lambda x: np.sqrt(np.abs(x))]\n",
    "# Set degree of approximation and endpoints of approximation interval\n",
    "a, b = -5, 5\n",
    "x = np.linspace(a, b, 2001)  # to evaluate precision\n",
    "precision = lambda y, yhat: np.max(np.abs(yhat - y))\n",
    "func_names = ['exp(-x)', '1/(1+25x^2)', 'sqrt(abs(x))']\n",
    "print('\\t\\t{:s}\\t{:10s}\\t{:10s}\\t{:10s}'.format('n', 'Linear', 'Cubic', 'Chebyshev'))\n",
    "for ii, ff in enumerate(funcs):\n",
    "    fx = ff(x)\n",
    "    print('\\n', func_names[ii])\n",
    "    for n in [10, 20, 30]:\n",
    "        C = precision(BasisChebyshev(n, a, b, f=ff)(x), fx)\n",
    "        S = precision(BasisSpline(n, a, b, f=ff)(x), fx)\n",
    "        L = precision(BasisSpline(n, a, b, k=1, f=ff)(x), fx)\n",
    "        print('\\t\\t{:d}\\t{:.2e}\\t{:.2e}\\t{:.2e}'.format(n, L, S, C))"
   ]
  },
  {
   "cell_type": "code",
   "execution_count": null,
   "metadata": {
    "collapsed": true
   },
   "outputs": [],
   "source": []
  },
  {
   "cell_type": "code",
   "execution_count": null,
   "metadata": {
    "collapsed": true
   },
   "outputs": [],
   "source": []
  },
  {
   "cell_type": "markdown",
   "metadata": {},
   "source": [
    "## 6.3 Piecewise Polynomial Splines\n",
    "\n",
    "- Piecewise polynomial splines, or **simply splines for short**, are a rich, fexible class of functions that may be used instead of high degree polynomials to approximate a real-valued function over a bounded interval.\n",
    "\n",
    "- Generally, an order $k$ spline consists of series of $k^{th}$ order polynomial segments spliced together so as to **preserve continuity of\n",
    "derivatives of order $k-1$ or less.** \n",
    "\n",
    "The points at which the polynomial pieces are spliced together, $ v_1 < v_2 < ... < v_p$, are called the breakpoints of the spline. By convention, the first and last breakpoints are the endpoints of the interval of approximation $[a; b]$.\n"
   ]
  },
  {
   "cell_type": "markdown",
   "metadata": {
    "collapsed": true
   },
   "source": [
    "- Two classes of splines are often employed in practice \n",
    "  -  A first-order or linear spline is a series of **line segments** spliced together to form a continuous function\n",
    "  - A third-order or cubic spline is a series of **cubic polynomials segments** spliced together to form a twice continuously differentiable function"
   ]
  },
  {
   "cell_type": "markdown",
   "metadata": {
    "collapsed": true
   },
   "source": []
  },
  {
   "cell_type": "code",
   "execution_count": null,
   "metadata": {
    "collapsed": true
   },
   "outputs": [],
   "source": []
  },
  {
   "cell_type": "markdown",
   "metadata": {},
   "source": [
    "## 6.4 Piecewise-Linear Basis Functions\n",
    "\n",
    "\n",
    "- Linear splines use line segments to connect points on the graph of the function to be approximated\n",
    "\n",
    "\n",
    "- They are particularly easy to construct and work with in practice, which explains their widespread popularity\n",
    "\n",
    "\n",
    "- Despite their simplicity, linear splines have many virtues. For problems in which the function being approximated is not-smooth and may even exhibit discontinuities, linear splines can still provide reasonable approximations. Unfortunately, derivatives of linear splines are discontinuous, piecewise constant functions.\n"
   ]
  },
  {
   "cell_type": "code",
   "execution_count": null,
   "metadata": {
    "collapsed": true
   },
   "outputs": [],
   "source": [
    "#Interpolated method\n",
    "def Interpolation( f, X, xmin, xmax, ymin=0, ymax=1, fig=None, leg=True ):\n",
    "    #f(x_i) values\n",
    "    Y = f( X )\n",
    "    \n",
    "    #X array\n",
    "    Xarray = np.linspace( xmin, xmax, 1000 )\n",
    "    #X area\n",
    "    Xarea = np.linspace( X[0], X[-1], 1000 )\n",
    "    #F array\n",
    "    Yarray = f( Xarray )\n",
    "    \n",
    "    #Lagrange polynomial\n",
    "    Ln = interp.lagrange( X, Y )\n",
    "    #Interpolated array\n",
    "    Parray = Ln( Xarray )\n",
    "    #Interpolated array for area\n",
    "    Parea = Ln( Xarea )\n",
    "    \n",
    "    #Plotting\n",
    "    if fig==None:\n",
    "        fig = plt.figure( figsize = (8,8) )\n",
    "    ax = fig.add_subplot(111)\n",
    "    #Function\n",
    "    ax.plot( Xarray, Yarray, linewidth = 3, color = \"blue\", label=\"$f(x)$\" )\n",
    "    #Points\n",
    "    ax.plot( X, Y, \"o\", color=\"black\", label=\"points\", zorder = 10 )\n",
    "    #Interpolator\n",
    "    ax.plot( Xarray, Parray, linewidth = 4, color = \"red\", label=\"$P_{%d}(x)$\"%(len(X)-1) )\n",
    "    #Area\n",
    "    #ax.fill_between( Xarea, Parea, color=\"green\", alpha=0.5 )\n",
    "    \n",
    "    #Format\n",
    "    ax.set_title( \"%d-point Interpolation\"%(len(X)), fontsize=16 )\n",
    "    ax.set_xlim( (xmin, xmax) )\n",
    "    ax.set_ylim( (0, 4) )\n",
    "    ax.set_xlabel( \"$x$\" )\n",
    "    ax.set_ylabel( \"$y$\" )\n",
    "    if leg:\n",
    "        ax.legend( loc=\"upper left\", fontsize=16 )\n",
    "    ax.grid(1)\n",
    "    \n",
    "    return ax\n",
    "\n",
    "#Function\n",
    "def f(x):\n",
    "    return 1+np.cos(x)**2+x\n",
    "\n",
    "# Choose a region to integrate over and take only a few points in that region\n",
    "\n",
    "X = np.array([-0.5,1.5])\n",
    "\n",
    "#Interpolation add-on\n",
    "import scipy.interpolate as interp\n",
    "# Plot both the function and the interpolation \n",
    "\n",
    "#interpolation method\n",
    "def CompositeInterpolation( f, a, b, N, n, xmin, xmax, ymin=0, ymax=1 ):\n",
    "    #X array\n",
    "    X = np.linspace( a, b, N )\n",
    "    \n",
    "    #Plotting\n",
    "    fig = plt.figure( figsize = (8,8) )\n",
    "    for i in range(0,N-n,n):\n",
    "        Xi = X[i:i+n+1]\n",
    "        ax = Interpolation( f, Xi, X[i], X[i+n], fig=fig, leg=False )\n",
    "    \n",
    "    #X array\n",
    "    Xarray = np.linspace( xmin, xmax, 1000 )\n",
    "    #F array\n",
    "    Yarray = f( Xarray )\n",
    "    #Function\n",
    "    ax.plot( Xarray, Yarray, linewidth = 3, color = \"blue\", label=\"$f(x)$\", zorder=0 )\n",
    "    ax.set_title( \"%d-intervals Linear Interpolation\"%(N-1), fontsize=16 )\n",
    "    #Format\n",
    "    plt.xlim( (xmin, xmax) )\n",
    "    plt.ylim( (ymin, ymax) )\n",
    "    \n",
    "    return None\n",
    "\n",
    "#Quadrature with 3 points (Simpson's rule)\n",
    "CompositeInterpolation( f, a=-0.9, b=1.9, N=7, n=1, xmin=-1, xmax=2, ymin=0, ymax=4 )"
   ]
  },
  {
   "cell_type": "code",
   "execution_count": null,
   "metadata": {
    "collapsed": true
   },
   "outputs": [],
   "source": []
  },
  {
   "cell_type": "code",
   "execution_count": null,
   "metadata": {
    "collapsed": true
   },
   "outputs": [],
   "source": []
  },
  {
   "cell_type": "markdown",
   "metadata": {
    "collapsed": true
   },
   "source": [
    "### Linear Spline Basis Functions\n",
    "\n",
    "A linear spline with $n+1$ nodes $x_0, x_1,..., x_n$ on the interval $[a,b]$ may be written as  a linear combination of the $n+1$ basis functions\n",
    "\n",
    "\n",
    "$$  \\Phi_j(x) =\n",
    "\\begin{cases}\n",
    "1- { |x-x_j| \\over  h},  & { |x-x_j| \\le h} \\\\\n",
    "0, & \\text{otherwise}\n",
    "\\end{cases}$$\n",
    "\n",
    "\n",
    "where $h = (b-a)/n$ is the distance between the nodes evenly-spaced interpolation  \n",
    "\n",
    "\n"
   ]
  },
  {
   "cell_type": "markdown",
   "metadata": {
    "collapsed": true
   },
   "source": [
    "ref:http://support.sas.com/documentation/cdl/en/statug/63033/HTML/default/viewer.htm#statug_introcom_a0000000525.htm"
   ]
  },
  {
   "cell_type": "markdown",
   "metadata": {},
   "source": [
    "- Linear spline basis functions are often called the “hat” functions\n",
    "- Each basis function is zero everywhere, except over a narrow support of width\n",
    "- At most two basis functions are nonzero at any point"
   ]
  },
  {
   "cell_type": "markdown",
   "metadata": {},
   "source": [
    "Computing basis coefficients for a linear spline approximation is a trivial matter\n",
    "\n",
    "- By construction, $\\phi_i(x_j)$ equals one if $i=j$, but zero otherwise, i.e. the interpolation matrix is the identity matrix $\\Phi$\n",
    "- Thus, the basis coefficients are simply the function values at the interpolation nodes, i.e. $c_i = f(x_i)$\n"
   ]
  },
  {
   "cell_type": "markdown",
   "metadata": {},
   "source": [
    "\n",
    "Linear splines, however, possess **limitations** that make them a poor choices in most computational economic applications\n",
    "- Linear splines have discontinuous first derivatives and higher order derivatives that are zero almost everywhere\n",
    "- Linear splines thus do a poor job of approximating **first derivatives** and cannot approximate higher order derivatives\n",
    "- In many economic applications, however, derivatives are of fundamental interest to an economist"
   ]
  },
  {
   "cell_type": "markdown",
   "metadata": {},
   "source": [
    "#### Cubic Splines\n",
    "- A cubic spline is a series of **cubic polynomial** segments spliced together to form a **twice continuously differentiable** function\n",
    "- Cubic splines retain much of the simplicity of linear splines, but **possess continuous first and second derivatives**\n",
    "- Cubic splines are therefore preferred to linear splines when a **smooth approximation** is required"
   ]
  },
  {
   "cell_type": "code",
   "execution_count": null,
   "metadata": {
    "collapsed": true
   },
   "outputs": [],
   "source": [
    "from scipy import interpolate\n",
    "x = np.arange(0, 2*np.pi+np.pi/4, 2*np.pi/8)\n",
    "y = np.sin(x)\n",
    "tck = interpolate.splrep(x, y, s=0)\n",
    "xnew = np.arange(0, 2*np.pi, np.pi/50)\n",
    "ynew = interpolate.splev(xnew, tck, der=0)"
   ]
  },
  {
   "cell_type": "code",
   "execution_count": null,
   "metadata": {
    "collapsed": true
   },
   "outputs": [],
   "source": [
    "plt.figure()\n",
    "plt.plot(x, y, 'b',xnew, ynew, xnew, np.sin(xnew))\n",
    "\n",
    "plt.legend(['Linear', 'Cubic Spline', 'True'])\n",
    "plt.axis([-0.05, 6.33, -1.05, 1.05])\n",
    "plt.title('Cubic-spline interpolation in Scipy')\n",
    "plt.show()"
   ]
  },
  {
   "cell_type": "markdown",
   "metadata": {},
   "source": [
    "\n",
    " - Cubic spline basis functions exhibit properties somewhat similar to linear splines\n",
    " - Each basis function is zero everywhere, except over a narrow support\n",
    " - Each basis function and its derivatives vanish at the endpoints of its support\n",
    " - At most four basis functions are nonzero at any point\n",
    "\n"
   ]
  },
  {
   "cell_type": "code",
   "execution_count": null,
   "metadata": {
    "collapsed": true
   },
   "outputs": [],
   "source": [
    "#https://docs.scipy.org/doc/scipy/reference/tutorial/interpolate.html\n",
    "yder = interpolate.splev(xnew, tck, der=1)\n",
    "plt.figure()\n",
    "plt.plot(xnew, yder, xnew, np.cos(xnew),'--')\n",
    "plt.legend(['Cubic Spline', 'True'])\n",
    "plt.axis([-0.05, 6.33, -1.05, 1.05])\n",
    "plt.title('Derivative estimation from spline in Scipy')\n",
    "\n"
   ]
  },
  {
   "cell_type": "markdown",
   "metadata": {},
   "source": [
    "- Computing basis coefficients for a cubic spline approximation is also relatively easy\n",
    "- By construction, at most four basis functions are nonzero at any interpolation node\n",
    "- Thus, the interpolation matrix will consist mostly of zeros, with nonzero entries concentrated around the diagonal\n",
    "- As such, the interpolation matrix may be stored in “sparse” format, reducing the required storage space and reducing the operations required to solve the interpolation equation\n",
    "- The matrix, moreover, is naturally well-conditioned"
   ]
  },
  {
   "cell_type": "code",
   "execution_count": null,
   "metadata": {
    "collapsed": true
   },
   "outputs": [],
   "source": []
  },
  {
   "cell_type": "markdown",
   "metadata": {},
   "source": [
    "## 6.5 Multidimensional Interpolation\n",
    "The univariate interpolation methods discussed in the preceding sections may be extended\n",
    "in a natural way to multivariate functions through the use of tensor products."
   ]
  },
  {
   "cell_type": "code",
   "execution_count": null,
   "metadata": {
    "collapsed": true
   },
   "outputs": [],
   "source": []
  },
  {
   "cell_type": "code",
   "execution_count": null,
   "metadata": {
    "collapsed": true
   },
   "outputs": [],
   "source": []
  },
  {
   "cell_type": "code",
   "execution_count": null,
   "metadata": {
    "collapsed": true
   },
   "outputs": [],
   "source": []
  },
  {
   "cell_type": "markdown",
   "metadata": {},
   "source": [
    "## 6.6 Choosing an Approximation Method\n",
    "\n",
    "The most significant difference between spline and polynomial interpolation methods\n",
    "is that spline basis functions have narrow supports, but polynomial basis functions\n",
    "have supports that cover the entire interpolation interval. This can lead to big differences\n",
    "in the quality of approximation when the function being approximated is\n",
    "irregular. \n",
    "\n",
    "Discontinuities in the first or second derivatives can create problems for all\n",
    "interpolation schemes. However, spline functions, due to their narrow support, can\n",
    "often contain the effects of such discontinuities. Polynomial approximants, on the\n",
    "other hand, allow the ill effects of discontinuities to propagate over the entire interval\n",
    "of interpolation. **Thus, when a function exhibits kinks, spline interpolation may be\n",
    "preferable to polynomial interpolation.**"
   ]
  },
  {
   "cell_type": "markdown",
   "metadata": {},
   "source": [
    "In order to illustrate the differences between spline and polynomial interpolation,\n",
    "we compare in Table 6.2 the approximation error for four different functions, all defined on $[-5; 5]$, and four different approximation schemes: linear spline interpolation,\n",
    "cubic spline interpolation, evenly spaced node polynomial interpolation, and Chebychev\n",
    "polynomial interpolation. The errors are measured as the maximum absolute\n",
    "error using 1001 evenly spaced evaluation points on $[-5; 5]$. The approximants obtained\n",
    "using splines and Chebyshev polynomials, along with the actual functions, are displayed in Figures 6.8-6.10."
   ]
  },
  {
   "cell_type": "code",
   "execution_count": null,
   "metadata": {
    "collapsed": true
   },
   "outputs": [],
   "source": []
  },
  {
   "cell_type": "markdown",
   "metadata": {
    "collapsed": true
   },
   "source": [
    "### Table 6.2"
   ]
  },
  {
   "cell_type": "code",
   "execution_count": null,
   "metadata": {
    "collapsed": true
   },
   "outputs": [],
   "source": [
    "# Table 6.2\n",
    "# Errors for seletected interpolation methods\n",
    "#   1: y = exp(-x)\n",
    "#   2: y = 1./(1+25*x.^2).\n",
    "#   3: y = sqrt(abs(x))\n",
    "print('\\n\\n')\n",
    "## Functions to be approximated\n",
    "funcs = [lambda x: np.exp(-x),\n",
    "         lambda x: 1 / ( 1 + 25 * x ** 2),\n",
    "         lambda x: np.sqrt(np.abs(x))]\n",
    "# Set degree of approximation and endpoints of approximation interval\n",
    "a, b = -5, 5\n",
    "x = np.linspace(a, b, 2001)  # to evaluate precision\n",
    "precision = lambda y, yhat: np.max(np.abs(yhat - y))\n",
    "func_names = ['exp(-x)', '1/(1+25x^2)', 'sqrt(abs(x))']\n",
    "print('\\t\\t{:s}\\t{:10s}\\t{:10s}\\t{:10s}'.format('n', 'Linear', 'Cubic', 'Chebyshev'))\n",
    "for ii, ff in enumerate(funcs):\n",
    "    fx = ff(x)\n",
    "    print('\\n', func_names[ii])\n",
    "    for n in [10, 20, 30]:\n",
    "        C = precision(BasisChebyshev(n, a, b, f=ff)(x), fx)\n",
    "        S = precision(BasisSpline(n, a, b, f=ff)(x), fx)\n",
    "        L = precision(BasisSpline(n, a, b, k=1, f=ff)(x), fx)\n",
    "        print('\\t\\t{:d}\\t{:.2e}\\t{:.2e}\\t{:.2e}'.format(n, L, S, C))"
   ]
  },
  {
   "cell_type": "markdown",
   "metadata": {
    "collapsed": true
   },
   "source": [
    " - Chebychev polynomial interpolation tends to outperform spline interpolation when the function being approximated is very **smooth**\n",
    " - However, if the function possesses discontinuities in the first or second derivative, spline functions sometimes perform as well or better\n",
    " - Also, if the dimension of the problem is large, spline interpolation enjoys an advantage because of its **sparse interpolation matrix**"
   ]
  },
  {
   "cell_type": "code",
   "execution_count": null,
   "metadata": {
    "collapsed": true
   },
   "outputs": [],
   "source": []
  },
  {
   "cell_type": "code",
   "execution_count": null,
   "metadata": {
    "collapsed": true
   },
   "outputs": [],
   "source": []
  },
  {
   "cell_type": "markdown",
   "metadata": {},
   "source": [
    "## 6.7 An Approximation Toolkit\n",
    "\n",
    "\n",
    "Implementing routines for multivariate function approximation involves a number of\n",
    "bookkeeping details that are tedious at best. In this section we describe a set of\n",
    "numerical tools that take much of the pain out of this process. This toolbox contains\n",
    "several high-level functions that use a structured variable to store the essential information\n",
    "that defines the function space from which approximants are drawn. The `CompEcon-python`\n",
    "toolbox also contains a set of middle-level routines that define the basis functions for\n",
    "Chebychev polynomials and for splines and a set of low-level utilities to handle basic\n",
    "computations, including tensor product manipulations.\n",
    "\n",
    "\n",
    "\n",
    "\n",
    "https://github.com/randall-romero/CompEcon-python/tree/master/notebooks/app\n",
    "\n",
    "\n"
   ]
  },
  {
   "cell_type": "code",
   "execution_count": null,
   "metadata": {
    "collapsed": true
   },
   "outputs": [],
   "source": [
    "from compecon import BasisChebyshev,nodeunif\n",
    "from mpl_toolkits.mplot3d import Axes3D\n",
    "from matplotlib import cm"
   ]
  },
  {
   "cell_type": "markdown",
   "metadata": {},
   "source": [
    "## Univariate approximation\n",
    "\n",
    "Approximating the function $f(x) = e^{-2x}$. Its derivative is $f'(x) = -2e^{-2x}$"
   ]
  },
  {
   "cell_type": "code",
   "execution_count": null,
   "metadata": {
    "collapsed": true
   },
   "outputs": [],
   "source": [
    "f1 = lambda x: np.exp(-2 * x)\n",
    "d1 = lambda x: -2 * np.exp(-2 * x)"
   ]
  },
  {
   "cell_type": "markdown",
   "metadata": {},
   "source": [
    "### Fit approximant\n",
    "\n",
    "The CompEcon toolbox defines the ```BasisChebyshev``` class for Chebyshev interpolation. \n",
    "\n",
    "Its positional arguments are \n",
    " - `n` (number of nodes), \n",
    " - `a` (lower bound) and `b` (upper bound). \n",
    " - The optional keyword argument `f` indicates a function (the lambda `f1` in our example) to be approximated."
   ]
  },
  {
   "cell_type": "code",
   "execution_count": null,
   "metadata": {
    "collapsed": true
   },
   "outputs": [],
   "source": [
    "n, a, b = 10, -1, 1\n",
    "f1fit = BasisChebyshev(n, a, b, f=f1)"
   ]
  },
  {
   "cell_type": "markdown",
   "metadata": {},
   "source": [
    "Here, `f1fit` is an instance of the `BasisChebyshev` class. \n",
    "\n",
    "Once a function is specified (as with the keyword argument `f` above), it can be evaluated at a given vector `x` by *calling* `f1fit`  as any other function\n",
    "\n",
    "\n",
    "```python\n",
    "f1fit()   # without arguments, it evaluates the function at the basis nodes\n",
    "f1fit(x)  # returns a vector containing the interpolation of each element of x\n",
    "```\n",
    "\n",
    "When a function is specified with the option `f`, the `BasisChebyshev` object computes the interpolation coefficients $c = \\Phi(x)^{-1}f(x)$, where $x$ represent the nodes of bhe basis.  \n",
    "\n",
    "Alternatively, if the values `fx` of the function at the nodes are available (instead of the function itself, as is usually the case), then the basis is created by:\n",
    "\n",
    "```python\n",
    "BasisChebyshev(n, a, b, y=fx)\n",
    "```"
   ]
  },
  {
   "cell_type": "code",
   "execution_count": null,
   "metadata": {
    "collapsed": true
   },
   "outputs": [],
   "source": [
    "f1fit()"
   ]
  },
  {
   "cell_type": "code",
   "execution_count": null,
   "metadata": {
    "collapsed": true
   },
   "outputs": [],
   "source": [
    "x = np.linspace(-1,1,10)\n",
    "f1fit(x)"
   ]
  },
  {
   "cell_type": "code",
   "execution_count": null,
   "metadata": {
    "collapsed": true
   },
   "outputs": [],
   "source": [
    "plt.figure()\n",
    "plt.plot(x,f1(x),label = r'Function: $e^{-2x}$')\n",
    "plt.plot(np.linspace(-1,1,10) ,f1fit(),'-*', label = \"Approximation\")\n",
    "plt.legend()"
   ]
  },
  {
   "cell_type": "markdown",
   "metadata": {
    "collapsed": true
   },
   "source": [
    "#### Chebychev polynomial and spline approximantion of various functions\n",
    "\n",
    "Demonstrates Chebychev polynomial, cubic spline, and linear spline approximation for the following functions\n",
    "\\begin{align}\n",
    "    y &= 1 + x + 2x^2 - 3x^3 \\\\\n",
    "    y &= \\exp(-x) \\\\\n",
    "    y &= \\frac{1}{1+25x^2} \\\\\n",
    "    y &= \\sqrt{|x|} \n",
    "\\end{align}\n",
    "\n",
    "ref: https://cybera.syzygy.ca/jupyter/user/georgebctt/notebooks/econ/CompEcon-python/notebooks/app/05%20Chebychev%20polynomial%20and%20spline%20approximantion%20of%20various%20functions.ipynb"
   ]
  },
  {
   "cell_type": "code",
   "execution_count": null,
   "metadata": {
    "collapsed": true
   },
   "outputs": [],
   "source": [
    "from compecon import BasisChebyshev, BasisSpline, nodeunif"
   ]
  },
  {
   "cell_type": "code",
   "execution_count": null,
   "metadata": {
    "collapsed": true
   },
   "outputs": [],
   "source": [
    "funcs = [lambda x: 1 + x + 2 * x ** 2 - 3 * x ** 3,\n",
    "         lambda x: np.exp(-x),\n",
    "         lambda x: 1 / ( 1 + 25 * x ** 2),\n",
    "         lambda x: np.sqrt(np.abs(x))]\n",
    "\n",
    "fst = ['$y = 1 + x + 2x^2 - 3x^3$', '$y = \\exp(-x)$', \n",
    "       '$y = 1/(1+25x^2)$', '$y = \\sqrt{|x|}$']"
   ]
  },
  {
   "cell_type": "code",
   "execution_count": null,
   "metadata": {
    "collapsed": true
   },
   "outputs": [],
   "source": [
    "x = nodeunif(2001, a, b)\n",
    "\n",
    "def subfig(k, x, y, xlim, ylim, title):\n",
    "    plt.subplot(2, 2, k)\n",
    "    plt.plot(x, y)\n",
    "    plt.xlim(xlim)\n",
    "    plt.ylim(ylim)\n",
    "    plt.title(title)"
   ]
  },
  {
   "cell_type": "code",
   "execution_count": null,
   "metadata": {
    "collapsed": true
   },
   "outputs": [],
   "source": [
    "n = 7   # degree of approximation\n",
    "a = -1  # left endpoint\n",
    "b = 1   # right endpoint"
   ]
  },
  {
   "cell_type": "code",
   "execution_count": null,
   "metadata": {
    "collapsed": true
   },
   "outputs": [],
   "source": [
    "def plot_appro( n, a, b,x, ifunc, ff):   \n",
    "    \"\"\"Plot approximation for Figure 6.8 -6.10\n",
    "    ifunc: number of function\n",
    "    ff: function\n",
    "    n = 7   # degree of approximation\n",
    "    a = -1  # left endpoint\n",
    "    b = 1   # right endpoint \n",
    "    \"\"\"\n",
    "    \n",
    "    # Construct interpolants\n",
    "    C = BasisChebyshev(n, a, b, f=ff)\n",
    "    S = BasisSpline(n, a, b, f=ff)\n",
    "    L = BasisSpline(n, a, b, k=1, f=ff)\n",
    "\n",
    "    # Compute actual and fitted values on grid\n",
    "    y = ff(x)  # actual\n",
    "    yc = C(x)  # Chebychev approximant\n",
    "    ys = S(x)  # cubic spline approximant\n",
    "    yl = L(x)  # linear spline approximant\n",
    "\n",
    "    \n",
    "    # Plot function approximations\n",
    "    plt.figure(figsize=[12,8])\n",
    "    ymin = np.floor(y.min())\n",
    "    ymax = np.ceil(y.max())\n",
    "    xlim = [a, b]\n",
    "    ylim = [-0.2, 1.2] if ifunc==2 else [ymin, ymax]\n",
    "\n",
    "    subfig(1, x, y, xlim, ylim, fst[ifunc])\n",
    "    subfig(2, x, yc, xlim, ylim, 'Chebyshev')\n",
    "    subfig(3, x, ys, xlim, ylim, 'Cubic Spline')\n",
    "    subfig(4, x, yl, xlim, ylim, 'Linear Spline')\n",
    "\n",
    "    # Plot function approximation error\n",
    "    plt.figure()\n",
    "    plt.plot(x, np.c_[yc - y, ys - y], linewidth=3)\n",
    "    plt.xlabel('x')\n",
    "    plt.ylabel('Approximation Error')\n",
    "    plt.legend(['Chebychev Polynomial','Cubic Spline'])\n",
    "    # pltlegend('boxoff')"
   ]
  },
  {
   "cell_type": "code",
   "execution_count": null,
   "metadata": {
    "collapsed": true,
    "scrolled": true
   },
   "outputs": [],
   "source": [
    "plot_appro(n, a, b,x, 0, funcs[0],)"
   ]
  },
  {
   "cell_type": "markdown",
   "metadata": {},
   "source": [
    "#### Figure 6.8\n",
    "\n",
    "Chebyshev better "
   ]
  },
  {
   "cell_type": "code",
   "execution_count": null,
   "metadata": {
    "collapsed": true
   },
   "outputs": [],
   "source": [
    "plot_appro(n, a, b,x,1, funcs[1])"
   ]
  },
  {
   "cell_type": "markdown",
   "metadata": {},
   "source": [
    "#### Figure 6.9"
   ]
  },
  {
   "cell_type": "code",
   "execution_count": null,
   "metadata": {
    "collapsed": true
   },
   "outputs": [],
   "source": [
    "plot_appro(n, a, b,x,2, funcs[2])"
   ]
  },
  {
   "cell_type": "markdown",
   "metadata": {},
   "source": [
    "#### Figure 6.10\n",
    "\n",
    "Linear Spline better"
   ]
  },
  {
   "cell_type": "code",
   "execution_count": null,
   "metadata": {
    "collapsed": true
   },
   "outputs": [],
   "source": [
    "plot_appro(n, a, b,x,3, funcs[3])"
   ]
  },
  {
   "cell_type": "markdown",
   "metadata": {
    "collapsed": true
   },
   "source": [
    "#### Example page 139-140"
   ]
  },
  {
   "cell_type": "code",
   "execution_count": null,
   "metadata": {
    "collapsed": true
   },
   "outputs": [],
   "source": [
    "# Example page 139-140\n",
    "alpha = 2\n",
    "f = lambda x: np.exp(-alpha * x)\n",
    "F = BasisChebyshev(10, -1, 1, f=f)\n",
    "x = np.linspace(-1, 1, 1001)\n",
    "plt.figure()\n",
    "plt.plot(x, F(x) - f(x))\n",
    "plt.title('Figure 6.11  Approximation Error')\n",
    "#plt.show()\n"
   ]
  },
  {
   "cell_type": "code",
   "execution_count": null,
   "metadata": {
    "collapsed": true
   },
   "outputs": [],
   "source": []
  },
  {
   "cell_type": "code",
   "execution_count": null,
   "metadata": {
    "collapsed": true
   },
   "outputs": [],
   "source": []
  },
  {
   "cell_type": "code",
   "execution_count": null,
   "metadata": {
    "collapsed": true
   },
   "outputs": [],
   "source": []
  },
  {
   "cell_type": "markdown",
   "metadata": {},
   "source": [
    "## 6.8 The Collocation Method\n",
    "In this section we introduce the *collocation method*, a straightforward generalization of the\n",
    "function approximation methods covered earlier in this chapter that can be used to solve\n",
    "a wide variety of functional equations, including the functional equations that arise with\n",
    "dynamic economic models in discrete and continuous time.\n",
    "\n",
    "\n",
    "\n",
    "\n"
   ]
  },
  {
   "cell_type": "code",
   "execution_count": null,
   "metadata": {
    "collapsed": true
   },
   "outputs": [],
   "source": []
  },
  {
   "cell_type": "code",
   "execution_count": null,
   "metadata": {
    "collapsed": true
   },
   "outputs": [],
   "source": []
  },
  {
   "cell_type": "code",
   "execution_count": null,
   "metadata": {
    "collapsed": true
   },
   "outputs": [],
   "source": []
  },
  {
   "cell_type": "markdown",
   "metadata": {},
   "source": [
    "## 6.9 Boundary Value Problems\n",
    "In the boundary value problem, or BVP for short, one seeks a solution function $x(t) : [0; T] \\rightarrow\n",
    "R^d$ that satisfies the differential equation"
   ]
  },
  {
   "cell_type": "code",
   "execution_count": null,
   "metadata": {
    "collapsed": true
   },
   "outputs": [],
   "source": [
    "\n",
    "#### Example p147"
   ]
  },
  {
   "cell_type": "code",
   "execution_count": null,
   "metadata": {
    "collapsed": true
   },
   "outputs": [],
   "source": [
    "# # Example p147\n",
    "\n",
    "# from compecon import BasisChebyshev, BasisSpline, NLP\n",
    "# warnings.simplefilter('ignore')\n",
    "# r, k, eta, s0 = 0.1, 0.5, 5 ,1\n",
    "\n",
    "\n",
    "# T, n = 1, 15\n",
    "# tnodes = BasisChebyshev(n - 1, 0, T).nodes\n",
    "# F = BasisChebyshev(n, 0, T, y=np.ones((2, n)))\n",
    "\n",
    "\n",
    "# def resid(c, tnodes, T, n, F, r, k, eta, s0):\n",
    "#     F.c = np.reshape(c[:], (2, n))\n",
    "#     (p, s), d = F(tnodes, [[0, 1]])\n",
    "#     d[0] -= (r * p + k)\n",
    "#     d[1] += p ** -eta\n",
    "#     (p_0, p_T), (s_0, s_T) = F([0, T])\n",
    "#     return np.r_[d.flatten(), s_0 - s0, s_T]\n",
    "\n",
    "\n",
    "# storage = NLP(resid, F.c.flatten(), tnodes, T, n, F, r, k, eta, s0)\n",
    "# c = storage.broyden(print=True)\n",
    "# F.c = np.reshape(c, (2, n))\n",
    "\n",
    "# nplot = 501\n",
    "# t = np.linspace(0, T, nplot)\n",
    "# (p, s), (dp, ds) = F(t, [[0, 1]])\n",
    "# res_p = dp - r * p - k\n",
    "# res_s = ds + p ** -eta\n",
    "# plt.figure()\n",
    "# plt.subplot(2, 1, 1)\n",
    "# plt.plot(t, res_p)\n",
    "# plt.title('Residuals')\n",
    "# plt.ylabel('d(price) residual')\n",
    "\n",
    "# plt.subplot(2, 1, 2)\n",
    "# plt.plot(t, res_s)\n",
    "# plt.xlabel('time')\n",
    "# plt.ylabel('d(storage) residual')\n",
    "\n",
    "\n",
    "# plt.figure()\n",
    "# plt.subplot(2, 1, 1)\n",
    "# plt.plot(t, p)\n",
    "# plt.title('Solution')\n",
    "# plt.ylabel('Price')\n",
    "\n",
    "# plt.subplot(2, 1, 2)\n",
    "# plt.plot(t, s)\n",
    "# plt.xlabel('time')\n",
    "# plt.ylabel('Stock')\n",
    "\n",
    "\n",
    "# plt.show()"
   ]
  },
  {
   "cell_type": "code",
   "execution_count": null,
   "metadata": {
    "collapsed": true
   },
   "outputs": [],
   "source": []
  },
  {
   "cell_type": "code",
   "execution_count": null,
   "metadata": {
    "collapsed": true
   },
   "outputs": [],
   "source": []
  },
  {
   "cell_type": "markdown",
   "metadata": {
    "collapsed": true
   },
   "source": [
    "## 6.10 Scipy Interpolation\n",
    "\n",
    "Given a set of N points $(x_i, y_i)$ with $i = 1, 2, …N$, we use a function $\\hat{f}(x)$ which provides interpolation of the data $(x_i, y_i)$ for all $x$ in an interval $[a,b]$.\n",
    "\n",
    "The function `y0 = scipy.interpolate.interp1d(x,y,kind=’nearest’)` does this interpolation based on splines of varying order. Note that the function `interp1d` returns a function `y0` which will then interpolate the x-y data for any given $x$ when called as $y0(x)$.\n",
    "The code below demonstrates this, and shows the different interpolation kinds."
   ]
  },
  {
   "cell_type": "code",
   "execution_count": null,
   "metadata": {
    "collapsed": true
   },
   "outputs": [],
   "source": [
    "import scipy.interpolate\n",
    "\n",
    "def create_data(n):\n",
    "    \"\"\"Given an integer n, returns n data points\n",
    "    x and values y as a numpy.array.\n",
    "    True function: f(x) = -x^2\n",
    "    y is the observations with normal noise\n",
    "    \"\"\"\n",
    "    xmax = 5.\n",
    "    x = np.linspace(0, xmax, n)\n",
    "    y = - x**2\n",
    "    #make x-data somewhat irregular\n",
    "    y += 3.5 * np.random.normal(size=len(x))\n",
    "    return x, y\n",
    "\n",
    "#main program\n",
    "n = 10\n",
    "x, y = create_data(n)\n",
    "\n",
    "#use finer and regular mesh for plot\n",
    "xfine = np.linspace(0.1, 4.9, n * 100)\n",
    "\n",
    "# using n=10 breakpoints to do the intepolation\n",
    "#interpolate with piecewise constant function (p=0): step function\n",
    "y0 = scipy.interpolate.interp1d(x, y, kind='nearest')\n",
    "#interpolate with piecewise linear func (p=1): piecewise straight line\n",
    "y1 = scipy.interpolate.interp1d(x, y, kind='linear')\n",
    "#interpolate with piecewise quadratic func (p=2): piecewise curve \n",
    "y2 = scipy.interpolate.interp1d(x, y, kind='quadratic')\n",
    "#interpolate with piecewise cubic func (p=3): piecewise curve \n",
    "y3 = scipy.interpolate.interp1d(x, y, kind='cubic')\n",
    "# true function\n",
    "yt = - xfine**2\n",
    "\n"
   ]
  },
  {
   "cell_type": "code",
   "execution_count": null,
   "metadata": {
    "collapsed": true
   },
   "outputs": [],
   "source": [
    "sns.set_style(style= \"whitegrid\")\n",
    "#plt.style.available\n",
    "#plt.style.use('fivethirtyeight')\n",
    "\n",
    "plt.figure()\n",
    "plt.scatter(x, y,s = 150,label='data point')\n",
    "plt.plot(xfine, y0(xfine), label='nearest')\n",
    "plt.plot(xfine, y1(xfine), label='linear')\n",
    "#plt.plot(xfine, y2(xfine), label='quadratic')\n",
    "#plt.plot(xfine, y3(xfine), label='cubic')\n",
    "plt.plot(xfine, yt, label='True function')\n",
    "\n",
    "\n",
    "plt.legend()\n",
    "plt.xlabel('x')"
   ]
  },
  {
   "cell_type": "code",
   "execution_count": null,
   "metadata": {
    "collapsed": true
   },
   "outputs": [],
   "source": [
    "plt.figure()\n",
    "plt.scatter(x, y, s = 150,label='data point')\n",
    "plt.plot(xfine, y0(xfine), label='nearest')\n",
    "#plt.plot(xfine, y1(xfine), label='linear')\n",
    "#plt.plot(xfine, y2(xfine), label='quadratic')\n",
    "plt.plot(xfine, y3(xfine), label='cubic')\n",
    "plt.plot(xfine, yt, label='True function')\n",
    "\n",
    "\n",
    "plt.legend()\n",
    "plt.xlabel('x')"
   ]
  },
  {
   "cell_type": "code",
   "execution_count": null,
   "metadata": {
    "collapsed": true
   },
   "outputs": [],
   "source": []
  }
 ],
 "metadata": {
  "kernelspec": {
   "display_name": "Python 3",
   "language": "python",
   "name": "python3"
  },
  "language_info": {
   "codemirror_mode": {
    "name": "ipython",
    "version": 3
   },
   "file_extension": ".py",
   "mimetype": "text/x-python",
   "name": "python",
   "nbconvert_exporter": "python",
   "pygments_lexer": "ipython3",
   "version": "3.5.2"
  }
 },
 "nbformat": 4,
 "nbformat_minor": 1
}
